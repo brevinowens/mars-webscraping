{
 "cells": [
  {
   "cell_type": "code",
   "execution_count": 1,
   "id": "06bd6958",
   "metadata": {},
   "outputs": [],
   "source": [
    "#dependencies\n",
    "from splinter import Browser\n",
    "from bs4 import BeautifulSoup as bs\n",
    "from webdriver_manager.chrome import ChromeDriverManager"
   ]
  },
  {
   "cell_type": "code",
   "execution_count": 2,
   "id": "9118bfc6",
   "metadata": {},
   "outputs": [],
   "source": [
    "executable_path = {'executable_path': ChromeDriverManager().install()}\n",
    "browser = Browser('chrome', **executable_path, headless=False)"
   ]
  },
  {
   "cell_type": "code",
   "execution_count": 3,
   "id": "02ba37d6",
   "metadata": {},
   "outputs": [],
   "source": [
    "url = 'https://redplanetscience.com/'\n",
    "browser.visit(url)"
   ]
  },
  {
   "cell_type": "code",
   "execution_count": 4,
   "id": "fcc008e0",
   "metadata": {},
   "outputs": [],
   "source": [
    "#Scrape the Mars News website by using Splinter and Beautiful Soup. \n",
    "#Specifically, scrape the title and preview text, or summary text, of each article on the landing page.\n",
    "html = browser.html\n",
    "soup = bs(html, 'html.parser')\n",
    "\n",
    "articles = soup.find_all('div', class_='content_title')\n",
    "summaries = soup.find_all('div', class_='article_teaser_body')\n",
    "\n",
    "title = []\n",
    "preview = []\n",
    "\n",
    "for article in articles: \n",
    "    title_text = article.text.strip()\n",
    "    title.append(title_text)\n",
    "\n",
    "for summary in summaries:\n",
    "    preview_text = summary.text.strip()\n",
    "    preview.append(preview_text)\n",
    "    \n"
   ]
  },
  {
   "cell_type": "code",
   "execution_count": 5,
   "id": "d509221e",
   "metadata": {},
   "outputs": [
    {
     "data": {
      "text/plain": [
       "[\"NASA's Mars 2020 Heads Into the Test Chamber\",\n",
       " \"NASA's Briefcase-Size MarCO Satellite Picks Up Honors\",\n",
       " 'MAVEN Maps Electric Currents around Mars that are Fundamental to Atmospheric Loss',\n",
       " \"NASA's New Mars Rover Will Use X-Rays to Hunt Fossils\",\n",
       " \"NASA's Mars 2020 Will Hunt for Microscopic Fossils\",\n",
       " \"Q&A with the Student Who Named Ingenuity, NASA's Mars Helicopter\",\n",
       " \"NASA's Push to Save the Mars InSight Lander's Heat Probe\",\n",
       " \"NASA's Mars 2020 Comes Full Circle\",\n",
       " 'Mars 2020 Stands on Its Own Six Wheels',\n",
       " \"The Detective Aboard NASA's Perseverance Rover\",\n",
       " \"8 Martian Postcards to Celebrate Curiosity's Landing Anniversary\",\n",
       " \"Three New Views of Mars' Moon Phobos\",\n",
       " 'Two Rovers to Roll on Mars Again: Curiosity and Mars 2020',\n",
       " 'MOXIE Could Help Future Rockets Launch Off Mars',\n",
       " \"Celebrate Mars Reconnaissance Orbiter's Views From Above\"]"
      ]
     },
     "execution_count": 5,
     "metadata": {},
     "output_type": "execute_result"
    }
   ],
   "source": [
    "title"
   ]
  },
  {
   "cell_type": "code",
   "execution_count": 6,
   "id": "92c1b5d9",
   "metadata": {},
   "outputs": [
    {
     "data": {
      "text/plain": [
       "['In this time-lapse video taken at JPL, engineers move the Mars 2020 rover into a large vacuum chamber for testing in Mars-like environmental conditions.',\n",
       " 'The twin spacecraft, the first of their kind to fly into deep space, earn a Laureate from Aviation Week & Space Technology.',\n",
       " 'Five years after NASA’s MAVEN spacecraft entered into orbit around Mars, data from the mission has led to the creation of a map of electric current systems in the Martian atmosphere.',\n",
       " \"PIXL, an instrument on the end of the Perseverance rover's arm, will search for chemical fingerprints left by ancient microbes.\",\n",
       " \"A new paper identifies a ring of minerals at the rover's landing site that are ideal for fossilizing microbial life.\",\n",
       " 'As a longtime fan of space exploration, Vaneeza Rupani appreciates the creativity and collaboration involved with trying to fly on another planet.',\n",
       " \"The scoop on the end of the spacecraft's robotic arm will be used to 'pin' the mole against the wall of its hole.\",\n",
       " \"Aiming to pinpoint the Martian vehicle's center of gravity, engineers took NASA's 2,300-pound Mars 2020 rover for a spin in the clean room at JPL.\",\n",
       " \"In time-lapse video, taken at JPL, captures the first time NASA's Mars 2020 rover carries its full weight on its legs and wheels.\",\n",
       " 'An instrument called SHERLOC will, with the help of its partner WATSON, hunt for signs of ancient life by detecting organic molecules and minerals.',\n",
       " 'The NASA rover touched down eight years ago, on Aug. 5, 2012, and will soon be joined by a second rover, Perseverance.',\n",
       " \"Taken with the infrared camera aboard NASA's Odyssey orbiter, they reveal temperature variations on the small moon as it drifts into and out of Mars’ shadow.\",\n",
       " 'They look like twins. But under the hood, the rover currently exploring the Red Planet and the one launching there this summer have distinct science tools and roles to play.',\n",
       " \"NASA's Perseverance rover carries a device to convert Martian air into oxygen that, if produced on a larger scale, could be used not just for breathing, but also for fuel.\",\n",
       " 'Marking its 15th anniversary since launch, one of the oldest spacecraft at the Red Planet has provided glimpses of dust devils, avalanches, and more.']"
      ]
     },
     "execution_count": 6,
     "metadata": {},
     "output_type": "execute_result"
    }
   ],
   "source": [
    "preview"
   ]
  },
  {
   "cell_type": "code",
   "execution_count": 7,
   "id": "e04aeac1",
   "metadata": {},
   "outputs": [],
   "source": [
    "browser.quit()"
   ]
  },
  {
   "cell_type": "code",
   "execution_count": null,
   "id": "f7c598d5",
   "metadata": {},
   "outputs": [],
   "source": []
  }
 ],
 "metadata": {
  "kernelspec": {
   "display_name": "PythonData",
   "language": "python",
   "name": "pythondata"
  },
  "language_info": {
   "codemirror_mode": {
    "name": "ipython",
    "version": 3
   },
   "file_extension": ".py",
   "mimetype": "text/x-python",
   "name": "python",
   "nbconvert_exporter": "python",
   "pygments_lexer": "ipython3",
   "version": "3.7.7"
  }
 },
 "nbformat": 4,
 "nbformat_minor": 5
}
